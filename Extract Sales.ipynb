{
 "cells": [
  {
   "cell_type": "code",
   "execution_count": 4,
   "id": "d6faec73-c68b-4584-906e-4a4c5a340af4",
   "metadata": {},
   "outputs": [],
   "source": [
    "import pandas as pd"
   ]
  },
  {
   "cell_type": "code",
   "execution_count": 5,
   "id": "36dd33c2-32c5-4257-ae58-a6baa5a4eee2",
   "metadata": {},
   "outputs": [
    {
     "name": "stdout",
     "output_type": "stream",
     "text": [
      "File vgsales.csv uploaded to gs://bkt-salesdata/sales_data.csv\n"
     ]
    }
   ],
   "source": [
    "from google.cloud import storage\n",
    "\n",
    "# Replace with your GCS bucket name and desired filename in the bucket\n",
    "bucket_name = 'bkt-salesdata'\n",
    "destination_blob_name = 'sales_data.csv'\n",
    "\n",
    "# Path to the CSV file to upload\n",
    "local_file_path = 'vgsales.csv'\n",
    "\n",
    "try:\n",
    "    # Initialize a client with explicit project ID (replace 'your-project-id' with your actual project ID)\n",
    "    storage_client = storage.Client(project='salesanalysis-428410')\n",
    "\n",
    "    # Get the bucket\n",
    "    bucket = storage_client.bucket(bucket_name)\n",
    "\n",
    "    # Upload the file\n",
    "    blob = bucket.blob(destination_blob_name)\n",
    "    blob.upload_from_filename(local_file_path)\n",
    "\n",
    "    print(f'File {local_file_path} uploaded to gs://{bucket_name}/{destination_blob_name}')\n",
    "except Exception as e:\n",
    "    print(f'Error uploading file to GCS: {e}')"
   ]
  },
  {
   "cell_type": "code",
   "execution_count": null,
   "id": "34035d97-307e-43fa-9a41-32e4b27de398",
   "metadata": {},
   "outputs": [],
   "source": []
  }
 ],
 "metadata": {
  "kernelspec": {
   "display_name": "Python 3 (ipykernel)",
   "language": "python",
   "name": "python3"
  },
  "language_info": {
   "codemirror_mode": {
    "name": "ipython",
    "version": 3
   },
   "file_extension": ".py",
   "mimetype": "text/x-python",
   "name": "python",
   "nbconvert_exporter": "python",
   "pygments_lexer": "ipython3",
   "version": "3.9.12"
  }
 },
 "nbformat": 4,
 "nbformat_minor": 5
}
